{
 "cells": [
  {
   "cell_type": "markdown",
   "metadata": {},
   "source": [
    "### Arrival and departures rates and exponential distributions\n",
    "\n",
    "Write down a short (250–500 words in total) model description for the queueing problem described\n",
    "in the First Project assignment. Address the following points.\n",
    "\n",
    "- What are the assumptions of the model?\n",
    "    - This is queue is an infinite buffer, which no limited number of people can wait\n",
    "    - The bus has a limited number of capacity which may not allow all the people in the queue get on the bus\n",
    "    - The policy is First come first serve.\n",
    "- What are the variables that represent the state of the system?\n",
    "    - The number of people in the waiting buffer\n",
    "    - The number of people in the bus\n",
    "    - The number of people disembarking in the next stop\n",
    "- What are the rules of the system? (The rules describe how the values of the variables are\n",
    "updated.)\n",
    "    - First come first serve ⇒ Depend on how much time each customer wait in the line\n",
    "    - If the bus is full, no more passengers can\n",
    "    embark and they have to wait for the next bus to arrive.\n",
    "- What are the input parameters we need to set before starting the simulation?\n",
    "    - Time each customer wait in the line\n",
    "- What are the outputs we might want to measure during or at the end of the simulation?\n",
    "    - How many customers wait in line?\n",
    "    - How much time each customer has to wait to get on the bus\n",
    "    - How many customer on the bus?\n",
    "    - How many buses needed?\n",
    "\n",
    "\n",
    "### Reflection\n",
    "The most important things when doing #modeling are: (1) Understand the situation and the context to create the right model; (2) Try to identify enough assumptions to simplify model so that you can minimize the effects of confounding variables and other noises; (3) Knowing which variables are indenpendent and dependent so that we can run the simulations. In this pre-class work, I tried to understand the assignment's context - the bus system (what we know? What we need to find?) and create some assumptions that I think they could be helpful and appropriate and lastly choose the right independent and dependent variables to work on during the simulations."
   ]
  },
  {
   "cell_type": "markdown",
   "metadata": {},
   "source": [
    "### Simulating exponential random variables"
   ]
  },
  {
   "cell_type": "code",
   "execution_count": 4,
   "metadata": {},
   "outputs": [
    {
     "name": "stdout",
     "output_type": "stream",
     "text": [
      "The mean of the sample is 0.3336950211777433\n",
      "The variance of the sample is 0.10527465262908996\n"
     ]
    }
   ],
   "source": [
    "import numpy as np\n",
    "import scipy.stats as sts\n",
    "rate_parameter = 3 # This is known as lambda in the exponential distribution\n",
    "distribution = sts.expon(scale=1/rate_parameter)\n",
    "sample = distribution.rvs(size=1000)\n",
    "#print(sample)\n",
    "print('The mean of the sample is', np.mean(sample))\n",
    "print('The variance of the sample is', np.var(sample))"
   ]
  },
  {
   "cell_type": "markdown",
   "metadata": {},
   "source": [
    "### Theoretical properties of the exponential distribution"
   ]
  },
  {
   "cell_type": "markdown",
   "metadata": {},
   "source": [
    "Explain how we know the data might come from\n",
    "an exponential distribution. What is your best guess for the rate parameter λ of this distribution?\n",
    "Explain your reasoning."
   ]
  },
  {
   "cell_type": "markdown",
   "metadata": {},
   "source": [
    "This distribution is exponential distribution because it follows the pattern that has a high value in the beginning and rapidly approach zero in the tail on the right. Based on the formula of exponential distribution, λ has to be positive to maintain the fundamental of exponential distribution. "
   ]
  }
 ],
 "metadata": {
  "kernelspec": {
   "display_name": "Python 3",
   "language": "python",
   "name": "python3"
  },
  "language_info": {
   "codemirror_mode": {
    "name": "ipython",
    "version": 3
   },
   "file_extension": ".py",
   "mimetype": "text/x-python",
   "name": "python",
   "nbconvert_exporter": "python",
   "pygments_lexer": "ipython3",
   "version": "3.7.3"
  }
 },
 "nbformat": 4,
 "nbformat_minor": 2
}
